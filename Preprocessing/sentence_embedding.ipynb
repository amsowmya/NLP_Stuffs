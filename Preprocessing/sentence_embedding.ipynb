{
 "cells": [
  {
   "cell_type": "code",
   "execution_count": 1,
   "metadata": {},
   "outputs": [],
   "source": [
    "sentences = [\"I ate dinner.\", \n",
    "       \"We had a three-course meal.\", \n",
    "       \"Brad came to dinner with us.\",\n",
    "       \"He loves fish tacos.\",\n",
    "       \"In the end, we all felt like we ate too much.\",\n",
    "       \"We all agreed; it was a magnificent evening.\"]"
   ]
  },
  {
   "cell_type": "markdown",
   "metadata": {},
   "source": [
    "1. Sentence transformer\n",
    "2. langchain hugging\n",
    "3. transformer"
   ]
  },
  {
   "cell_type": "code",
   "execution_count": 3,
   "metadata": {},
   "outputs": [],
   "source": [
    "from sentence_transformers import SentenceTransformer"
   ]
  },
  {
   "cell_type": "code",
   "execution_count": 4,
   "metadata": {},
   "outputs": [
    {
     "data": {
      "application/vnd.jupyter.widget-view+json": {
       "model_id": "988348c5bf9147058fc6f866adabfecf",
       "version_major": 2,
       "version_minor": 0
      },
      "text/plain": [
       "modules.json:   0%|          | 0.00/349 [00:00<?, ?B/s]"
      ]
     },
     "metadata": {},
     "output_type": "display_data"
    },
    {
     "name": "stderr",
     "output_type": "stream",
     "text": [
      "c:\\Users\\sowmy\\anaconda3\\envs\\nlp\\lib\\site-packages\\huggingface_hub\\file_download.py:139: UserWarning: `huggingface_hub` cache-system uses symlinks by default to efficiently store duplicated files but your machine does not support them in C:\\Users\\sowmy\\.cache\\huggingface\\hub\\models--sentence-transformers--all-mpnet-base-v2. Caching files will still work but in a degraded version that might require more space on your disk. This warning can be disabled by setting the `HF_HUB_DISABLE_SYMLINKS_WARNING` environment variable. For more details, see https://huggingface.co/docs/huggingface_hub/how-to-cache#limitations.\n",
      "To support symlinks on Windows, you either need to activate Developer Mode or to run Python as an administrator. In order to activate developer mode, see this article: https://docs.microsoft.com/en-us/windows/apps/get-started/enable-your-device-for-development\n",
      "  warnings.warn(message)\n"
     ]
    },
    {
     "data": {
      "application/vnd.jupyter.widget-view+json": {
       "model_id": "e7e9bd90a0ac48bfae28f99a0c09cdc6",
       "version_major": 2,
       "version_minor": 0
      },
      "text/plain": [
       "config_sentence_transformers.json:   0%|          | 0.00/116 [00:00<?, ?B/s]"
      ]
     },
     "metadata": {},
     "output_type": "display_data"
    },
    {
     "data": {
      "application/vnd.jupyter.widget-view+json": {
       "model_id": "d1b5c4c6caa745d5af8993995315f865",
       "version_major": 2,
       "version_minor": 0
      },
      "text/plain": [
       "README.md:   0%|          | 0.00/10.6k [00:00<?, ?B/s]"
      ]
     },
     "metadata": {},
     "output_type": "display_data"
    },
    {
     "data": {
      "application/vnd.jupyter.widget-view+json": {
       "model_id": "3f88f00796fb46c68c133b636aa880e9",
       "version_major": 2,
       "version_minor": 0
      },
      "text/plain": [
       "sentence_bert_config.json:   0%|          | 0.00/53.0 [00:00<?, ?B/s]"
      ]
     },
     "metadata": {},
     "output_type": "display_data"
    },
    {
     "data": {
      "application/vnd.jupyter.widget-view+json": {
       "model_id": "e14b23c411fd4483a7c34c9773394140",
       "version_major": 2,
       "version_minor": 0
      },
      "text/plain": [
       "config.json:   0%|          | 0.00/571 [00:00<?, ?B/s]"
      ]
     },
     "metadata": {},
     "output_type": "display_data"
    },
    {
     "data": {
      "application/vnd.jupyter.widget-view+json": {
       "model_id": "18fb29fcff0242eebffadc9c680cde7f",
       "version_major": 2,
       "version_minor": 0
      },
      "text/plain": [
       "model.safetensors:   0%|          | 0.00/438M [00:00<?, ?B/s]"
      ]
     },
     "metadata": {},
     "output_type": "display_data"
    },
    {
     "data": {
      "application/vnd.jupyter.widget-view+json": {
       "model_id": "5e4c085376fa45e28233b81a7d853028",
       "version_major": 2,
       "version_minor": 0
      },
      "text/plain": [
       "tokenizer_config.json:   0%|          | 0.00/363 [00:00<?, ?B/s]"
      ]
     },
     "metadata": {},
     "output_type": "display_data"
    },
    {
     "data": {
      "application/vnd.jupyter.widget-view+json": {
       "model_id": "8403cabc479f486e9cf9efca061bb414",
       "version_major": 2,
       "version_minor": 0
      },
      "text/plain": [
       "vocab.txt:   0%|          | 0.00/232k [00:00<?, ?B/s]"
      ]
     },
     "metadata": {},
     "output_type": "display_data"
    },
    {
     "data": {
      "application/vnd.jupyter.widget-view+json": {
       "model_id": "72c8f8a2f2f54b97a567188242ef3d08",
       "version_major": 2,
       "version_minor": 0
      },
      "text/plain": [
       "tokenizer.json:   0%|          | 0.00/466k [00:00<?, ?B/s]"
      ]
     },
     "metadata": {},
     "output_type": "display_data"
    },
    {
     "data": {
      "application/vnd.jupyter.widget-view+json": {
       "model_id": "dec5d4fefa654184b7ef4626cd067867",
       "version_major": 2,
       "version_minor": 0
      },
      "text/plain": [
       "special_tokens_map.json:   0%|          | 0.00/239 [00:00<?, ?B/s]"
      ]
     },
     "metadata": {},
     "output_type": "display_data"
    },
    {
     "data": {
      "application/vnd.jupyter.widget-view+json": {
       "model_id": "41a886aeada549d4bbec294e3fcf07fa",
       "version_major": 2,
       "version_minor": 0
      },
      "text/plain": [
       "1_Pooling/config.json:   0%|          | 0.00/190 [00:00<?, ?B/s]"
      ]
     },
     "metadata": {},
     "output_type": "display_data"
    }
   ],
   "source": [
    "model = SentenceTransformer(\"all-mpnet-base-v2\")"
   ]
  },
  {
   "cell_type": "code",
   "execution_count": 5,
   "metadata": {},
   "outputs": [
    {
     "data": {
      "text/plain": [
       "'I ate dinner.'"
      ]
     },
     "execution_count": 5,
     "metadata": {},
     "output_type": "execute_result"
    }
   ],
   "source": [
    "sentences[0]"
   ]
  },
  {
   "cell_type": "code",
   "execution_count": 6,
   "metadata": {},
   "outputs": [
    {
     "data": {
      "text/plain": [
       "array([-1.58598050e-02,  4.59826030e-02, -1.46349613e-02, -4.85908799e-02,\n",
       "       -3.60320951e-03,  3.17664333e-02, -3.27772461e-02,  2.11894922e-02,\n",
       "        1.07366564e-02,  2.50182319e-02,  1.58237815e-02,  1.24070067e-02,\n",
       "        1.62089821e-02, -1.30434548e-02,  4.58447039e-02,  4.40270118e-02,\n",
       "        4.57802005e-02, -4.32260195e-03,  1.87806562e-02,  5.22198621e-03,\n",
       "       -1.86415650e-02, -7.11806398e-03,  3.01359445e-02,  1.70695893e-02,\n",
       "       -1.53764142e-02,  3.34172137e-02, -6.55884296e-03,  1.58591773e-02,\n",
       "        1.37039516e-02, -2.02767309e-02,  3.26631963e-02,  5.48364175e-03,\n",
       "       -3.53351049e-02, -1.06665194e-01,  1.85711565e-06,  3.66638824e-02,\n",
       "       -1.71336029e-02,  3.34468447e-02, -6.43022135e-02,  6.90796599e-02,\n",
       "        2.50845030e-02,  2.89430637e-02, -8.98415036e-03, -1.84546802e-02,\n",
       "        2.81151999e-02, -2.34797373e-02,  1.21612530e-02,  6.25150204e-02,\n",
       "       -8.58704001e-02, -1.84622966e-03,  7.95864500e-03, -8.42522830e-02,\n",
       "       -2.26104185e-02,  7.21653784e-03,  2.59820488e-03,  1.28878448e-02,\n",
       "        1.31184943e-02, -1.40280770e-02,  1.85121018e-02, -1.50230872e-02,\n",
       "        1.10535175e-02,  1.02814240e-02,  9.40545741e-03,  4.65565026e-02,\n",
       "        4.04661931e-02,  2.98436843e-02,  2.30588280e-02, -9.56827775e-03,\n",
       "       -6.97247731e-03, -3.25501710e-03,  5.75625338e-03, -2.86776144e-02,\n",
       "        4.26812330e-03,  7.02847680e-03, -3.25724967e-02, -8.53253603e-02,\n",
       "       -1.82671775e-03, -1.19525585e-02,  3.00710127e-02,  1.06549589e-02,\n",
       "        6.04646318e-02,  3.74978632e-02,  1.93042755e-02, -6.08700793e-03,\n",
       "        1.31479949e-02,  3.11518051e-02,  5.17085269e-02, -2.14072112e-02,\n",
       "       -4.98081967e-02,  1.41700394e-02, -1.54408088e-04,  5.96487755e-03,\n",
       "        3.77814919e-02,  1.88498143e-02,  1.82054136e-02, -7.94759113e-03,\n",
       "        7.14987516e-03,  1.79809835e-02,  2.96121500e-02,  8.90165102e-03,\n",
       "       -4.28315215e-02,  1.40012875e-02, -6.78029433e-02, -1.18278274e-02,\n",
       "       -4.25322056e-02,  6.77722991e-02, -5.84640987e-02, -4.41408493e-02,\n",
       "       -1.05593160e-01,  8.63234571e-04, -3.74521315e-02, -2.02775337e-02,\n",
       "        4.42328490e-02,  6.30339310e-02,  3.72220273e-03, -7.10151950e-03,\n",
       "        5.87496832e-02, -1.77735537e-02,  2.42016241e-02, -4.91761020e-04,\n",
       "       -4.19575572e-02,  1.19407149e-03,  1.03314044e-02,  6.10738397e-02,\n",
       "       -4.37645689e-02,  6.50699064e-02, -4.20008637e-02,  2.29213517e-02,\n",
       "        1.31197385e-02, -8.17684457e-02, -9.69563983e-03, -1.48491133e-02,\n",
       "       -3.15134153e-02, -5.08222431e-02,  2.85881720e-02,  8.88474658e-03,\n",
       "       -5.03061339e-02,  1.42504545e-02,  5.76837920e-02, -5.51901162e-02,\n",
       "       -2.69924887e-02, -5.75252548e-02,  4.46648002e-02,  4.45762323e-03,\n",
       "        2.51233112e-02,  1.85715817e-02,  1.15396082e-02,  2.88802218e-02,\n",
       "        2.38203108e-02,  2.48824675e-02, -2.97697037e-02,  7.64075015e-03,\n",
       "       -6.90794026e-04,  2.48531979e-02, -2.62041367e-03, -1.18772304e-02,\n",
       "        5.20075001e-02,  1.01946667e-03,  4.16889451e-02,  4.28789435e-03,\n",
       "        7.62175629e-03,  1.45216594e-02, -3.54440175e-02,  1.07836081e-02,\n",
       "       -1.93938811e-03, -3.40298779e-04, -1.08397240e-03,  2.25106888e-02,\n",
       "       -2.68090032e-02, -4.96655554e-02, -2.46530026e-02,  1.38710644e-02,\n",
       "       -1.18675558e-02,  4.91955243e-02,  8.10240135e-02,  3.23882587e-02,\n",
       "       -6.89732656e-02,  7.07735643e-02, -1.71234198e-02, -5.31037524e-02,\n",
       "        6.90773712e-04,  8.25338140e-02, -5.41860610e-03, -1.21966032e-02,\n",
       "       -2.57876962e-02,  1.29037146e-02,  3.97710875e-02,  1.16599612e-02,\n",
       "       -4.71499078e-02, -1.55412103e-03,  2.14158911e-02,  1.21262986e-02,\n",
       "        1.17830753e-01,  2.07086504e-02,  2.16068905e-02, -1.81928799e-02,\n",
       "       -2.43831407e-02, -1.84701458e-02,  2.88840476e-02, -5.97509556e-02,\n",
       "        2.14757565e-02,  3.20827067e-02,  7.62479007e-02,  3.80868874e-02,\n",
       "        3.45983058e-02, -4.29250672e-02, -2.74348594e-02, -2.71049608e-03,\n",
       "        4.90295477e-02, -4.41903807e-03, -2.57232226e-02, -1.32094705e-02,\n",
       "        2.61984766e-02,  1.94365457e-02, -4.45671976e-02,  3.29501345e-03,\n",
       "        1.72698852e-02, -1.32996561e-02,  1.42142065e-02,  5.69112226e-02,\n",
       "       -3.62573899e-02, -1.41077349e-02, -2.02275962e-02,  1.82423908e-02,\n",
       "        5.26576228e-02, -1.01201041e-02,  1.54184001e-02, -1.43441902e-02,\n",
       "       -4.23691235e-02, -4.37279530e-02,  9.64317191e-03,  4.04549949e-02,\n",
       "       -1.14073688e-02,  4.93268035e-02, -9.71718598e-03,  5.46151698e-02,\n",
       "        2.97969319e-02, -5.09547815e-02, -3.63158733e-02, -2.95957625e-02,\n",
       "        5.14642522e-02,  2.31824539e-04, -1.07930331e-02, -3.80905555e-03,\n",
       "        2.90465150e-02, -3.24545503e-02, -2.88729910e-02, -4.38747257e-02,\n",
       "       -5.69990911e-02,  2.82499250e-02,  1.30839273e-02, -2.26316284e-02,\n",
       "       -1.82014983e-02, -2.35346220e-02,  1.76654644e-02, -6.19094297e-02,\n",
       "       -1.76500585e-02, -6.84205489e-03,  1.26652308e-02,  9.16165709e-02,\n",
       "        2.64643785e-02, -3.54639292e-02, -2.48465538e-02,  1.97095592e-02,\n",
       "        8.28404631e-03, -4.95947711e-02,  7.40020722e-03, -5.44814803e-02,\n",
       "        4.28960455e-04, -4.23534289e-02,  5.82960574e-03,  3.07192877e-02,\n",
       "       -1.48841403e-02,  3.16153020e-02, -2.68768650e-02, -9.47810709e-04,\n",
       "        1.25226881e-02, -3.57248150e-02, -1.67506319e-02,  1.37193641e-02,\n",
       "        4.24945820e-03,  5.27573302e-02, -9.80025157e-03, -1.08689480e-02,\n",
       "       -1.24133145e-02,  1.91956144e-02, -3.58565040e-02, -9.97184888e-02,\n",
       "        6.43670186e-02, -3.15426439e-02, -2.69128568e-02, -1.35610150e-02,\n",
       "       -9.34540387e-03, -4.93993349e-02,  4.51085567e-02,  6.02013571e-03,\n",
       "       -6.92172861e-03, -1.54350903e-02,  4.53561284e-02, -5.89583768e-03,\n",
       "        1.05212834e-02, -3.40153649e-03,  1.51837561e-02,  8.79017729e-03,\n",
       "        3.56564735e-04,  2.25682836e-02, -6.91524595e-02, -7.66745880e-02,\n",
       "        1.29864812e-02,  5.04967123e-02,  1.50756845e-02,  2.16731112e-02,\n",
       "       -2.95116901e-02, -6.00572079e-02, -2.29868107e-02, -1.04990406e-02,\n",
       "       -6.96845120e-03,  3.18047218e-02,  5.66538703e-03,  1.75470021e-02,\n",
       "        2.71979664e-02,  3.44705991e-02,  1.88786276e-02, -3.29418294e-02,\n",
       "        9.57653113e-03,  5.50613971e-03, -1.52026666e-02,  2.08035740e-03,\n",
       "        5.36028594e-02, -6.70920126e-03,  1.05932942e-02, -1.78985521e-02,\n",
       "        1.10722603e-02, -5.40628955e-02, -2.52347216e-02, -3.76276486e-02,\n",
       "       -1.26187513e-02,  4.19355631e-02, -1.90691147e-02, -1.96487326e-02,\n",
       "        3.94429415e-02,  4.67757285e-02, -8.10252689e-03, -8.41667354e-02,\n",
       "       -9.59752128e-02,  1.51463142e-02, -8.22178612e-04,  2.00970024e-02,\n",
       "       -8.18411708e-02, -3.58317271e-02, -6.77416548e-02, -5.26525564e-02,\n",
       "        2.46512499e-02, -1.33464634e-02, -3.42224985e-02,  2.58780252e-02,\n",
       "       -2.66648997e-02,  6.51572943e-02, -1.12581428e-03, -1.95963271e-02,\n",
       "        1.83230899e-02,  3.94512750e-02,  2.86751725e-02,  2.81556062e-02,\n",
       "        1.75660569e-02,  1.72639415e-02,  3.68377417e-02, -2.39951145e-02,\n",
       "       -5.43986540e-03, -2.74544749e-02, -3.26096043e-02,  7.32510118e-03,\n",
       "       -1.17906164e-02,  1.44643709e-02, -3.15678716e-02,  5.94951883e-02,\n",
       "        1.69741046e-02,  2.20813765e-03,  3.95897664e-02, -1.69411227e-02,\n",
       "        3.56196426e-02, -9.37269852e-02, -2.98591964e-02,  3.93665396e-02,\n",
       "       -1.38473557e-02, -7.10828230e-02,  1.55497622e-02, -3.29911767e-04,\n",
       "       -7.28902966e-02, -2.15077400e-02,  1.86752807e-02, -3.46289426e-02,\n",
       "        4.25320975e-02,  1.73439533e-02,  4.00773399e-02,  4.68754768e-02,\n",
       "       -4.55647819e-02,  4.01489399e-02,  1.42339393e-02,  4.65468764e-02,\n",
       "       -2.28002924e-03,  3.16909701e-02,  6.24307878e-02,  4.86361459e-02,\n",
       "        3.26480344e-02,  1.79937277e-02, -4.62855212e-02,  2.25095116e-02,\n",
       "        7.00975163e-03, -3.31502073e-02,  1.46785835e-02,  9.74482019e-03,\n",
       "        3.75681370e-03, -3.06931860e-03,  5.25606871e-02, -4.82426910e-03,\n",
       "       -1.55553687e-02, -1.32090179e-02,  1.22427745e-02, -5.44230230e-02,\n",
       "       -7.97448382e-02,  1.97087973e-02,  3.37717496e-02, -3.82506591e-03,\n",
       "       -8.37580934e-02,  4.10214253e-02,  2.94716861e-02,  4.52253548e-03,\n",
       "        1.07993446e-02, -2.96981577e-02,  5.67336008e-02, -1.21641252e-02,\n",
       "       -8.40689827e-05, -3.02090682e-02,  7.73443980e-03, -3.26076299e-02,\n",
       "        4.02261540e-02, -1.28654754e-02, -7.96076730e-02, -1.55287478e-02,\n",
       "        1.37525226e-03, -4.16691750e-02, -2.88095325e-02, -2.70524397e-02,\n",
       "        1.02296680e-01,  7.52571523e-02, -2.59594209e-02, -2.65949424e-02,\n",
       "       -4.69846688e-02, -1.33361015e-02,  1.70473696e-03, -1.76358912e-02,\n",
       "       -4.12113965e-02,  3.39411236e-02,  3.59486379e-02, -3.41615081e-02,\n",
       "        9.15826634e-02, -6.70038909e-02,  4.86283451e-02, -2.68086456e-02,\n",
       "        3.78752686e-02,  8.08212627e-03,  4.23677713e-02,  1.52023649e-02,\n",
       "        1.58876088e-02, -3.11394557e-02, -8.78774002e-02, -5.79142421e-02,\n",
       "        2.41951216e-02,  2.57020397e-03, -7.73024485e-02,  1.55816469e-02,\n",
       "       -2.86607407e-02, -4.32955958e-02, -2.53818780e-02,  5.45955002e-02,\n",
       "        8.37027840e-03, -2.65179332e-02, -2.61629047e-03, -3.31447157e-03,\n",
       "       -1.79148521e-02, -2.60945857e-02,  4.77011828e-03, -5.08269593e-02,\n",
       "       -1.84851512e-02, -2.16280222e-02,  1.43808136e-02, -3.05945612e-02,\n",
       "        1.50616756e-02, -4.09028679e-02,  7.04844594e-02,  2.60001849e-02,\n",
       "       -8.37909896e-03, -6.81087151e-02, -1.92867201e-02,  2.49227230e-02,\n",
       "       -5.90112200e-03, -1.05722807e-01,  4.74698842e-02,  3.64245214e-02,\n",
       "       -3.45415175e-02,  9.81412595e-04,  1.11524183e-02, -4.03986778e-03,\n",
       "       -2.44927537e-02, -1.97279416e-02, -3.08720227e-02,  2.80872975e-02,\n",
       "        1.00117326e-02,  2.18960997e-02,  6.14455482e-03, -1.32056698e-02,\n",
       "       -5.07736355e-02, -1.97931323e-02,  8.27941392e-03, -4.62120622e-02,\n",
       "       -5.51684871e-02, -5.14607988e-02,  5.03845606e-03, -3.24241519e-02,\n",
       "        1.12097152e-02, -1.46342246e-02,  7.48953074e-02,  2.12575495e-02,\n",
       "        3.87335531e-02, -2.58959122e-02, -2.79744416e-02, -2.42690332e-02,\n",
       "        2.16051452e-02,  3.84969497e-03, -2.80155204e-02,  3.35131562e-03,\n",
       "        7.39866123e-02, -1.72764864e-02,  2.68466938e-02, -1.88286398e-02,\n",
       "       -3.92891094e-02, -6.49443129e-03, -1.54084591e-02, -2.65790559e-02,\n",
       "        9.35086980e-02,  3.82397557e-03, -2.68056765e-02, -1.05356155e-02,\n",
       "        2.97878589e-02, -2.91752238e-02,  2.86788847e-02,  5.40053286e-03,\n",
       "        5.71340211e-02, -3.11719663e-02, -1.92548018e-02,  8.66377428e-02,\n",
       "       -5.26127080e-03, -1.58109050e-02, -7.37257348e-03, -7.48096507e-33,\n",
       "       -8.16418324e-03,  1.73739647e-03, -2.53643822e-02, -5.03595127e-03,\n",
       "       -6.86859041e-02,  4.40038256e-02, -7.90445786e-03,  9.27463919e-03,\n",
       "        4.66299877e-02,  4.97399196e-05, -6.55424595e-03,  1.35525642e-02,\n",
       "        3.27868536e-02, -2.53598560e-02,  2.26441771e-02, -5.32447696e-02,\n",
       "        1.65595450e-02,  2.85723154e-02, -1.28313703e-02, -2.56135706e-02,\n",
       "       -6.18037209e-02, -1.92074031e-02,  2.91740149e-02,  4.81621958e-02,\n",
       "       -6.77685738e-02, -4.26128507e-02, -2.30916310e-02, -3.08419243e-02,\n",
       "       -4.77962941e-02, -1.71754546e-02, -2.17240956e-02,  5.16959690e-02,\n",
       "        3.26244049e-02,  2.61108782e-02, -2.66777840e-03,  4.86687347e-02,\n",
       "       -5.40456288e-02, -8.97555612e-03,  3.66165419e-03, -1.42301777e-02,\n",
       "       -9.21469480e-02, -2.49562189e-02, -1.05454179e-04, -7.45289167e-03,\n",
       "       -2.56974306e-02, -4.04444011e-03,  2.79512834e-02,  2.36190930e-02,\n",
       "       -1.93815157e-02,  9.34776962e-02,  5.30958362e-03, -1.87141262e-02,\n",
       "       -2.86967754e-02, -2.52440311e-02, -9.64600313e-03,  5.35384417e-02,\n",
       "        3.96264456e-02, -7.46781472e-03,  7.34487595e-03,  2.10733269e-03,\n",
       "        2.99707316e-02, -1.34610310e-02, -3.01808324e-02,  1.13324746e-02,\n",
       "        2.51599457e-02,  4.98907967e-03,  1.34255558e-01,  8.57840255e-02,\n",
       "       -2.42480971e-02,  5.10873622e-04,  3.55318957e-03, -1.30220493e-02,\n",
       "       -9.40548349e-03, -1.68338735e-02, -6.24424629e-02, -8.98142755e-02,\n",
       "        1.76631752e-02, -3.23512442e-02, -2.87888460e-02,  4.10666950e-02,\n",
       "       -2.74146697e-03,  3.16262408e-03,  3.54910046e-02, -1.42004313e-02,\n",
       "       -2.64342353e-02,  1.62270218e-02, -7.48079969e-03,  3.42453718e-02,\n",
       "       -2.49889158e-02, -4.16228734e-03,  1.17719816e-02, -4.00646329e-02,\n",
       "       -2.35405192e-02, -8.75220262e-03,  1.55821089e-02, -1.63653903e-02,\n",
       "       -3.57433110e-02,  1.19522540e-02,  7.34549435e-03,  2.15327945e-02,\n",
       "        3.83846276e-02, -8.30104388e-03,  3.02559827e-02,  1.07787736e-02,\n",
       "        2.01522224e-02,  1.84977204e-02,  3.61453765e-03,  4.61707450e-02,\n",
       "        5.21232113e-02, -5.31146154e-02, -3.89908254e-02,  1.90590229e-02,\n",
       "        1.48182092e-02,  4.29888107e-02,  4.00316482e-03,  5.57820909e-02,\n",
       "       -1.65058747e-02, -2.22848393e-02, -5.35408556e-02,  6.90800622e-02,\n",
       "       -2.79136207e-02,  4.08632169e-03, -2.01860256e-02, -4.04299684e-02,\n",
       "       -5.23089292e-03,  3.73510234e-02, -1.11760758e-02, -3.66712920e-02,\n",
       "       -2.87192687e-03,  2.10754629e-02,  3.76952961e-02,  1.09278429e-02,\n",
       "        2.34670424e-07, -5.83815947e-03, -1.06521631e-02,  4.90937606e-02,\n",
       "        1.93328056e-02, -1.56828165e-02, -1.16360113e-02, -5.01941144e-03,\n",
       "       -1.42199476e-03, -1.25968205e-02,  4.80137654e-02,  1.94739122e-02,\n",
       "       -9.63925442e-04,  9.95587837e-03, -2.91750487e-03,  1.02095425e-01,\n",
       "       -4.05394062e-02,  4.36692722e-02, -8.68650340e-03, -1.26141850e-02,\n",
       "        4.96189948e-03, -2.95747491e-03,  9.54302214e-03,  1.09063126e-02,\n",
       "       -1.48719978e-02,  1.88651104e-02,  9.85456407e-02, -1.29849939e-02,\n",
       "       -3.30951102e-02, -7.27010518e-02, -2.73238309e-02, -2.98812669e-02,\n",
       "        6.37464523e-02,  3.33134085e-02, -4.05681469e-02, -8.69686808e-03,\n",
       "       -7.63494074e-02,  7.29526803e-02, -1.63662923e-03,  3.26968990e-02,\n",
       "        3.76456301e-03, -7.44201839e-02, -2.90430407e-03, -1.64837092e-02,\n",
       "       -1.61300283e-02,  3.63583826e-02, -8.07746947e-02,  3.56798470e-02,\n",
       "        1.12884067e-01, -6.01821765e-02, -3.23759951e-03, -4.36223000e-02,\n",
       "       -8.07509571e-03,  1.59766171e-02,  1.50590781e-02, -1.09581128e-02,\n",
       "       -2.08764555e-04,  2.23355051e-02,  2.02779509e-02,  3.66384462e-02,\n",
       "        4.76100482e-02,  6.08532922e-03,  3.41526046e-02, -2.32867207e-02,\n",
       "       -1.81981213e-02, -5.39806336e-02, -5.15636429e-03, -5.87134138e-02,\n",
       "        4.48037778e-35,  2.38258895e-02, -2.66424213e-02,  2.49110330e-02,\n",
       "        5.19612804e-02,  1.65563729e-02,  1.88922859e-03, -3.42106335e-02,\n",
       "        2.48622950e-02,  4.11067232e-02, -4.45085242e-02, -3.00774872e-02],\n",
       "      dtype=float32)"
      ]
     },
     "execution_count": 6,
     "metadata": {},
     "output_type": "execute_result"
    }
   ],
   "source": [
    "model.encode(sentences[0])"
   ]
  },
  {
   "cell_type": "code",
   "execution_count": 7,
   "metadata": {},
   "outputs": [
    {
     "data": {
      "text/plain": [
       "(768,)"
      ]
     },
     "execution_count": 7,
     "metadata": {},
     "output_type": "execute_result"
    }
   ],
   "source": [
    "model.encode(sentences[0]).shape"
   ]
  },
  {
   "cell_type": "code",
   "execution_count": 8,
   "metadata": {},
   "outputs": [],
   "source": [
    "from langchain.embeddings import HuggingFaceEmbeddings"
   ]
  },
  {
   "cell_type": "code",
   "execution_count": 9,
   "metadata": {},
   "outputs": [],
   "source": [
    "embedding_model_name = \"sentence-transformers/all-mpnet-base-v2\"\n",
    "\n",
    "model_kwargs = {\"device\": \"cpu\"}\n",
    "embeddings = HuggingFaceEmbeddings(model_name=embedding_model_name, model_kwargs=model_kwargs)"
   ]
  },
  {
   "cell_type": "code",
   "execution_count": 13,
   "metadata": {},
   "outputs": [],
   "source": [
    "embedded_vector = embeddings.embed_query(sentences[0])"
   ]
  },
  {
   "cell_type": "code",
   "execution_count": 14,
   "metadata": {},
   "outputs": [
    {
     "data": {
      "text/plain": [
       "768"
      ]
     },
     "execution_count": 14,
     "metadata": {},
     "output_type": "execute_result"
    }
   ],
   "source": [
    "len(embedded_vector)"
   ]
  },
  {
   "cell_type": "markdown",
   "metadata": {},
   "source": [
    "#### one more approach with transformer huggingface lib"
   ]
  },
  {
   "cell_type": "code",
   "execution_count": 15,
   "metadata": {},
   "outputs": [],
   "source": [
    "import torch\n",
    "from transformers import BertTokenizer, BertModel\n",
    "import random"
   ]
  },
  {
   "cell_type": "code",
   "execution_count": 16,
   "metadata": {},
   "outputs": [],
   "source": [
    "tokenizer = BertTokenizer.from_pretrained(\"bert-base-uncased\")"
   ]
  },
  {
   "cell_type": "code",
   "execution_count": 17,
   "metadata": {},
   "outputs": [],
   "source": [
    "model = BertModel.from_pretrained(\"bert-base-uncased\")"
   ]
  },
  {
   "cell_type": "code",
   "execution_count": 18,
   "metadata": {},
   "outputs": [],
   "source": [
    "text = \"follow my channel for genai learning\""
   ]
  },
  {
   "cell_type": "code",
   "execution_count": 19,
   "metadata": {},
   "outputs": [],
   "source": [
    "encoding = tokenizer.batch_encode_plus([text], truncation=True, return_tensors=\"pt\", add_special_tokens=True)"
   ]
  },
  {
   "cell_type": "code",
   "execution_count": 20,
   "metadata": {},
   "outputs": [
    {
     "data": {
      "text/plain": [
       "{'input_ids': tensor([[ 101, 3582, 2026, 3149, 2005, 8991, 4886, 4083,  102]]), 'token_type_ids': tensor([[0, 0, 0, 0, 0, 0, 0, 0, 0]]), 'attention_mask': tensor([[1, 1, 1, 1, 1, 1, 1, 1, 1]])}"
      ]
     },
     "execution_count": 20,
     "metadata": {},
     "output_type": "execute_result"
    }
   ],
   "source": [
    "encoding"
   ]
  },
  {
   "cell_type": "code",
   "execution_count": 25,
   "metadata": {},
   "outputs": [],
   "source": [
    "input_ids = encoding['input_ids']"
   ]
  },
  {
   "cell_type": "code",
   "execution_count": 26,
   "metadata": {},
   "outputs": [],
   "source": [
    "attention_mask = encoding[\"attention_mask\"]"
   ]
  },
  {
   "cell_type": "code",
   "execution_count": 28,
   "metadata": {},
   "outputs": [],
   "source": [
    "with torch.no_grad():\n",
    "    outputs = model(input_ids, attention_mask)\n",
    "    word_embeddings = outputs.last_hidden_state"
   ]
  },
  {
   "cell_type": "code",
   "execution_count": 29,
   "metadata": {},
   "outputs": [
    {
     "data": {
      "text/plain": [
       "tensor([[[ 0.0417,  0.0226,  0.0016,  ..., -0.1186, -0.0239,  0.3513],\n",
       "         [ 0.7839,  0.0215,  0.3999,  ...,  0.4065,  0.2250, -0.2343],\n",
       "         [ 0.3760, -0.4246,  0.3021,  ...,  0.0312, -0.1804,  0.0696],\n",
       "         ...,\n",
       "         [ 0.0892, -0.3312, -0.3764,  ..., -0.0863, -0.3077, -0.5731],\n",
       "         [-0.5617, -0.6647, -0.2033,  ...,  0.7834, -0.0545, -0.2510],\n",
       "         [ 1.0018,  0.1875, -0.2772,  ...,  0.1994, -0.8168, -0.0450]]])"
      ]
     },
     "execution_count": 29,
     "metadata": {},
     "output_type": "execute_result"
    }
   ],
   "source": [
    "word_embeddings"
   ]
  },
  {
   "cell_type": "code",
   "execution_count": 34,
   "metadata": {},
   "outputs": [
    {
     "data": {
      "text/plain": [
       "torch.Size([1, 9, 768])"
      ]
     },
     "execution_count": 34,
     "metadata": {},
     "output_type": "execute_result"
    }
   ],
   "source": [
    "word_embeddings.shape"
   ]
  },
  {
   "cell_type": "code",
   "execution_count": 53,
   "metadata": {},
   "outputs": [
    {
     "data": {
      "text/plain": [
       "'follow my channel for genai learning'"
      ]
     },
     "execution_count": 53,
     "metadata": {},
     "output_type": "execute_result"
    }
   ],
   "source": [
    "tokenizer.decode(input_ids[0], skip_special_tokens=True)"
   ]
  },
  {
   "cell_type": "code",
   "execution_count": null,
   "metadata": {},
   "outputs": [],
   "source": []
  },
  {
   "cell_type": "code",
   "execution_count": null,
   "metadata": {},
   "outputs": [],
   "source": []
  },
  {
   "cell_type": "code",
   "execution_count": null,
   "metadata": {},
   "outputs": [],
   "source": []
  },
  {
   "cell_type": "code",
   "execution_count": 87,
   "metadata": {},
   "outputs": [],
   "source": [
    "text1 = \"I am a good girl\"\n",
    "text2 = \"I am a bad girl\""
   ]
  },
  {
   "cell_type": "code",
   "execution_count": 88,
   "metadata": {},
   "outputs": [],
   "source": [
    "embedding1 = tokenizer.batch_encode_plus([text1], truncation=True, padding=\"max_length\", return_tensors=\"pt\", max_length=128)\n",
    "embedding2 = tokenizer.batch_encode_plus([text2], truncation=True, padding=\"max_length\", return_tensors=\"pt\", max_length=128)"
   ]
  },
  {
   "cell_type": "code",
   "execution_count": 89,
   "metadata": {},
   "outputs": [],
   "source": [
    "with torch.no_grad():\n",
    "    outputs1 = model(embedding1['input_ids'], embedding1['attention_mask'])\n",
    "    outputs2 = model(embedding2['input_ids'], embedding1['attention_mask'])\n",
    "    \n",
    "    word_embeddings1 = outputs1.last_hidden_state\n",
    "    word_embeddings2 = outputs2.last_hidden_state"
   ]
  },
  {
   "cell_type": "code",
   "execution_count": 90,
   "metadata": {},
   "outputs": [
    {
     "data": {
      "text/plain": [
       "odict_keys(['last_hidden_state', 'pooler_output'])"
      ]
     },
     "execution_count": 90,
     "metadata": {},
     "output_type": "execute_result"
    }
   ],
   "source": [
    "outputs1.keys()"
   ]
  },
  {
   "cell_type": "code",
   "execution_count": 91,
   "metadata": {},
   "outputs": [
    {
     "data": {
      "text/plain": [
       "tensor([[[-0.1497,  0.3252, -0.2012,  ..., -0.0692,  0.3319,  0.2653],\n",
       "         [-0.0332,  0.1289, -0.6799,  ...,  0.0271,  0.9485,  0.3232],\n",
       "         [-0.0770,  0.2348, -0.5834,  ..., -0.3631,  0.3777,  0.1340],\n",
       "         ...,\n",
       "         [ 0.0016,  0.0967,  0.2287,  ...,  0.2376,  0.0585, -0.0473],\n",
       "         [-0.0706,  0.0451,  0.2192,  ...,  0.2905,  0.1144, -0.0852],\n",
       "         [-0.0876,  0.0692,  0.3152,  ...,  0.2343, -0.0018, -0.0667]]])"
      ]
     },
     "execution_count": 91,
     "metadata": {},
     "output_type": "execute_result"
    }
   ],
   "source": [
    "word_embeddings2"
   ]
  },
  {
   "cell_type": "code",
   "execution_count": 92,
   "metadata": {},
   "outputs": [],
   "source": [
    "from sklearn.metrics.pairwise import cosine_similarity"
   ]
  },
  {
   "cell_type": "code",
   "execution_count": 94,
   "metadata": {},
   "outputs": [
    {
     "data": {
      "text/plain": [
       "array([[0.94389665]], dtype=float32)"
      ]
     },
     "execution_count": 94,
     "metadata": {},
     "output_type": "execute_result"
    }
   ],
   "source": [
    "cosine_similarity(word_embeddings1.reshape(1, -1), word_embeddings2.reshape(1, -1))"
   ]
  },
  {
   "cell_type": "code",
   "execution_count": null,
   "metadata": {},
   "outputs": [],
   "source": []
  }
 ],
 "metadata": {
  "kernelspec": {
   "display_name": "nlp",
   "language": "python",
   "name": "python3"
  },
  "language_info": {
   "codemirror_mode": {
    "name": "ipython",
    "version": 3
   },
   "file_extension": ".py",
   "mimetype": "text/x-python",
   "name": "python",
   "nbconvert_exporter": "python",
   "pygments_lexer": "ipython3",
   "version": "3.10.14"
  }
 },
 "nbformat": 4,
 "nbformat_minor": 2
}
