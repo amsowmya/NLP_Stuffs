{
 "cells": [
  {
   "cell_type": "code",
   "execution_count": 45,
   "metadata": {},
   "outputs": [],
   "source": [
    "paragraph = \"\"\"Dr. Kalam was a strong advocate for education and believed that every child in India had the right to quality education. He was a great teacher and mentor, and he always encouraged young people to pursue their dreams and never give up on their aspirations. He believed that if we want to build a better India, we must invest in our youth and empower them with the knowledge and skills they need to succeed.\n",
    "One of Dr. Kalam’s most enduring legacies is his role as a public figure and leader. He served as the 11th President of India from 2002 to 2007 and was widely respected for his humility, integrity, and wisdom. During his tenure as President, he traveled extensively across the country, meeting with people from all walks of life and inspiring them with his vision for a better India.\n",
    "Dr. Kalam was also a great writer and thinker. He authored several books, including “Wings of Fire,” an autobiography that chronicles his journey from a small village to the highest office in the land. He also wrote numerous essays and speeches on topics ranging from science and technology to spirituality and social issues.\n",
    "One of Dr. Kalam’s most famous speeches was his address to the students of IIT Delhi in 2009. In that speech, he outlined his vision for India in the year 2020, which he called “Vision 2020.” He envisioned India as a developed nation that was self-reliant in all areas, including agriculture, industry, and defense. He believed that India could achieve this vision if it focused on innovation, education, and entrepreneurship.\n",
    "Dr. Kalam was a man of great faith and spirituality. He believed that science and spirituality were not mutually exclusive but were complementary to each other. He often spoke about the need for harmony between science and spirituality and the importance of using technology for the betterment of humanity.\n",
    "Dr. Kalam was a true patriot who loved his country and its people. He believed that India had the potential to become a great nation and that it was the duty of every citizen to work towards that goal. He often said, “We are all born with a divine fire in us. Our efforts should be to give wings to this fire and fill the world with the glow of its goodness.”\n",
    "Finally, Dr. APJ Abdul Kalam was a great scientist, leader, and visionary who dedicated his life to the service of our nation. He inspired millions of people with his ideas and his humility, and his legacy will continue to inspire generations to come. As we remember him today, let us rededicate ourselves to the values that he stood for – education, innovation, and service to humanity. Let us work towards making India a developed nation that is a beacon of hope and progress for the world. Thank you.\n",
    "\"\"\""
   ]
  },
  {
   "cell_type": "code",
   "execution_count": 46,
   "metadata": {},
   "outputs": [],
   "source": [
    "from nltk.stem import PorterStemmer\n",
    "from nltk.corpus import stopwords"
   ]
  },
  {
   "cell_type": "code",
   "execution_count": 47,
   "metadata": {},
   "outputs": [
    {
     "name": "stderr",
     "output_type": "stream",
     "text": [
      "[nltk_data] Downloading package stopwords to\n",
      "[nltk_data]     C:\\Users\\sowmy\\AppData\\Roaming\\nltk_data...\n",
      "[nltk_data]   Package stopwords is already up-to-date!\n"
     ]
    },
    {
     "data": {
      "text/plain": [
       "True"
      ]
     },
     "execution_count": 47,
     "metadata": {},
     "output_type": "execute_result"
    }
   ],
   "source": [
    "import nltk\n",
    "nltk.download('stopwords')"
   ]
  },
  {
   "cell_type": "code",
   "execution_count": 48,
   "metadata": {},
   "outputs": [
    {
     "data": {
      "text/plain": [
       "['i',\n",
       " 'me',\n",
       " 'my',\n",
       " 'myself',\n",
       " 'we',\n",
       " 'our',\n",
       " 'ours',\n",
       " 'ourselves',\n",
       " 'you',\n",
       " \"you're\",\n",
       " \"you've\",\n",
       " \"you'll\",\n",
       " \"you'd\",\n",
       " 'your',\n",
       " 'yours',\n",
       " 'yourself',\n",
       " 'yourselves',\n",
       " 'he',\n",
       " 'him',\n",
       " 'his',\n",
       " 'himself',\n",
       " 'she',\n",
       " \"she's\",\n",
       " 'her',\n",
       " 'hers',\n",
       " 'herself',\n",
       " 'it',\n",
       " \"it's\",\n",
       " 'its',\n",
       " 'itself',\n",
       " 'they',\n",
       " 'them',\n",
       " 'their',\n",
       " 'theirs',\n",
       " 'themselves',\n",
       " 'what',\n",
       " 'which',\n",
       " 'who',\n",
       " 'whom',\n",
       " 'this',\n",
       " 'that',\n",
       " \"that'll\",\n",
       " 'these',\n",
       " 'those',\n",
       " 'am',\n",
       " 'is',\n",
       " 'are',\n",
       " 'was',\n",
       " 'were',\n",
       " 'be',\n",
       " 'been',\n",
       " 'being',\n",
       " 'have',\n",
       " 'has',\n",
       " 'had',\n",
       " 'having',\n",
       " 'do',\n",
       " 'does',\n",
       " 'did',\n",
       " 'doing',\n",
       " 'a',\n",
       " 'an',\n",
       " 'the',\n",
       " 'and',\n",
       " 'but',\n",
       " 'if',\n",
       " 'or',\n",
       " 'because',\n",
       " 'as',\n",
       " 'until',\n",
       " 'while',\n",
       " 'of',\n",
       " 'at',\n",
       " 'by',\n",
       " 'for',\n",
       " 'with',\n",
       " 'about',\n",
       " 'against',\n",
       " 'between',\n",
       " 'into',\n",
       " 'through',\n",
       " 'during',\n",
       " 'before',\n",
       " 'after',\n",
       " 'above',\n",
       " 'below',\n",
       " 'to',\n",
       " 'from',\n",
       " 'up',\n",
       " 'down',\n",
       " 'in',\n",
       " 'out',\n",
       " 'on',\n",
       " 'off',\n",
       " 'over',\n",
       " 'under',\n",
       " 'again',\n",
       " 'further',\n",
       " 'then',\n",
       " 'once',\n",
       " 'here',\n",
       " 'there',\n",
       " 'when',\n",
       " 'where',\n",
       " 'why',\n",
       " 'how',\n",
       " 'all',\n",
       " 'any',\n",
       " 'both',\n",
       " 'each',\n",
       " 'few',\n",
       " 'more',\n",
       " 'most',\n",
       " 'other',\n",
       " 'some',\n",
       " 'such',\n",
       " 'no',\n",
       " 'nor',\n",
       " 'not',\n",
       " 'only',\n",
       " 'own',\n",
       " 'same',\n",
       " 'so',\n",
       " 'than',\n",
       " 'too',\n",
       " 'very',\n",
       " 's',\n",
       " 't',\n",
       " 'can',\n",
       " 'will',\n",
       " 'just',\n",
       " 'don',\n",
       " \"don't\",\n",
       " 'should',\n",
       " \"should've\",\n",
       " 'now',\n",
       " 'd',\n",
       " 'll',\n",
       " 'm',\n",
       " 'o',\n",
       " 're',\n",
       " 've',\n",
       " 'y',\n",
       " 'ain',\n",
       " 'aren',\n",
       " \"aren't\",\n",
       " 'couldn',\n",
       " \"couldn't\",\n",
       " 'didn',\n",
       " \"didn't\",\n",
       " 'doesn',\n",
       " \"doesn't\",\n",
       " 'hadn',\n",
       " \"hadn't\",\n",
       " 'hasn',\n",
       " \"hasn't\",\n",
       " 'haven',\n",
       " \"haven't\",\n",
       " 'isn',\n",
       " \"isn't\",\n",
       " 'ma',\n",
       " 'mightn',\n",
       " \"mightn't\",\n",
       " 'mustn',\n",
       " \"mustn't\",\n",
       " 'needn',\n",
       " \"needn't\",\n",
       " 'shan',\n",
       " \"shan't\",\n",
       " 'shouldn',\n",
       " \"shouldn't\",\n",
       " 'wasn',\n",
       " \"wasn't\",\n",
       " 'weren',\n",
       " \"weren't\",\n",
       " 'won',\n",
       " \"won't\",\n",
       " 'wouldn',\n",
       " \"wouldn't\"]"
      ]
     },
     "execution_count": 48,
     "metadata": {},
     "output_type": "execute_result"
    }
   ],
   "source": [
    "stopwords.words('english')"
   ]
  },
  {
   "cell_type": "code",
   "execution_count": 49,
   "metadata": {},
   "outputs": [
    {
     "name": "stderr",
     "output_type": "stream",
     "text": [
      "[nltk_data] Downloading package punkt_tab to\n",
      "[nltk_data]     C:\\Users\\sowmy\\AppData\\Roaming\\nltk_data...\n",
      "[nltk_data]   Package punkt_tab is already up-to-date!\n"
     ]
    },
    {
     "data": {
      "text/plain": [
       "True"
      ]
     },
     "execution_count": 49,
     "metadata": {},
     "output_type": "execute_result"
    }
   ],
   "source": [
    "from nltk.stem import PorterStemmer\n",
    "import nltk\n",
    "nltk.download('punkt_tab')"
   ]
  },
  {
   "cell_type": "code",
   "execution_count": 50,
   "metadata": {},
   "outputs": [],
   "source": [
    "stemmer = PorterStemmer()"
   ]
  },
  {
   "cell_type": "code",
   "execution_count": 51,
   "metadata": {},
   "outputs": [],
   "source": [
    "sentences = nltk.sent_tokenize(paragraph)"
   ]
  },
  {
   "cell_type": "code",
   "execution_count": null,
   "metadata": {},
   "outputs": [],
   "source": [
    "## Apply Stopwords and Filter and then apply stemming\n",
    "\n",
    "for i in range(len(sentences)):\n",
    "    words = nltk.word_tokenize(sentences[i])\n",
    "    words = [stemmer.stem(word) for word in words if word not in set(stopwords.words('english'))]\n",
    "    sentences[i] = ' '.join(words) # converting all the words into sentences"
   ]
  },
  {
   "cell_type": "code",
   "execution_count": null,
   "metadata": {},
   "outputs": [
    {
     "data": {
      "text/plain": [
       "['dr. kalam strong advoc educ believ everi child india right qualiti educ .',\n",
       " 'he great teacher mentor , alway encourag young peopl pursu dream never give aspir .',\n",
       " 'he believ want build better india , must invest youth empow knowledg skill need succeed .',\n",
       " 'one dr. kalam ’ endur legaci role public figur leader .',\n",
       " 'he serv 11th presid india 2002 2007 wide respect humil , integr , wisdom .',\n",
       " 'dure tenur presid , travel extens across countri , meet peopl walk life inspir vision better india .',\n",
       " 'dr. kalam also great writer thinker .',\n",
       " 'he author sever book , includ “ wing fire , ” autobiographi chronicl journey small villag highest offic land .',\n",
       " 'he also wrote numer essay speech topic rang scienc technolog spiritu social issu .',\n",
       " 'one dr. kalam ’ famou speech address student iit delhi 2009 .',\n",
       " 'in speech , outlin vision india year 2020 , call “ vision 2020. ” he envis india develop nation self-reli area , includ agricultur , industri , defens .',\n",
       " 'he believ india could achiev vision focus innov , educ , entrepreneurship .',\n",
       " 'dr. kalam man great faith spiritu .',\n",
       " 'he believ scienc spiritu mutual exclus complementari .',\n",
       " 'he often spoke need harmoni scienc spiritu import use technolog better human .',\n",
       " 'dr. kalam true patriot love countri peopl .',\n",
       " 'he believ india potenti becom great nation duti everi citizen work toward goal .',\n",
       " 'he often said , “ we born divin fire us .',\n",
       " 'our effort give wing fire fill world glow goodness. ” final , dr. apj abdul kalam great scientist , leader , visionari dedic life servic nation .',\n",
       " 'he inspir million peopl idea humil , legaci continu inspir gener come .',\n",
       " 'as rememb today , let us reded valu stood – educ , innov , servic human .',\n",
       " 'let us work toward make india develop nation beacon hope progress world .',\n",
       " 'thank .']"
      ]
     },
     "execution_count": 25,
     "metadata": {},
     "output_type": "execute_result"
    }
   ],
   "source": [
    "sentences"
   ]
  },
  {
   "cell_type": "code",
   "execution_count": 26,
   "metadata": {},
   "outputs": [],
   "source": [
    "from nltk.stem import SnowballStemmer"
   ]
  },
  {
   "cell_type": "code",
   "execution_count": 28,
   "metadata": {},
   "outputs": [],
   "source": [
    "snow_stemmer = SnowballStemmer(language='english')"
   ]
  },
  {
   "cell_type": "code",
   "execution_count": 39,
   "metadata": {},
   "outputs": [],
   "source": [
    "for i in range(len(sentences)):\n",
    "    words = nltk.word_tokenize(sentences[i])\n",
    "    words = [snow_stemmer.stem(word) for word in words if word not in set(stopwords.words('english'))]\n",
    "    sentences[i] = ' '.join(words)"
   ]
  },
  {
   "cell_type": "code",
   "execution_count": 40,
   "metadata": {},
   "outputs": [
    {
     "data": {
      "text/plain": [
       "['dr. kalam strong advoc educ believ everi child india right qualiti educ .',\n",
       " 'he great teacher mentor , alway encourag young peopl pursu dream never give aspir .',\n",
       " 'he believ want build better india , must invest youth empow knowledg skill need succeed .',\n",
       " 'one dr. kalam ’ endur legaci role public figur leader .',\n",
       " 'he serv 11th presid india 2002 2007 wide respect humil , integr , wisdom .',\n",
       " 'dure tenur presid , travel extens across countri , meet peopl walk life inspir vision better india .',\n",
       " 'dr. kalam also great writer thinker .',\n",
       " 'he author sever book , includ “ wing fire , ” autobiographi chronicl journey small villag highest offic land .',\n",
       " 'he also wrote numer essay speech topic rang scienc technolog spiritu social issu .',\n",
       " 'one dr. kalam ’ famous speech address student iit delhi 2009 .',\n",
       " 'in speech , outlin vision india year 2020 , call “ vision 2020. ” he envis india develop nation self-reli area , includ agricultur , industri , defens .',\n",
       " 'he believ india could achiev vision focus innov , educ , entrepreneurship .',\n",
       " 'dr. kalam man great faith spiritu .',\n",
       " 'he believ scienc spiritu mutual exclus complementari .',\n",
       " 'he often spoke need harmoni scienc spiritu import use technolog better human .',\n",
       " 'dr. kalam true patriot love countri peopl .',\n",
       " 'he believ india potenti becom great nation duti everi citizen work toward goal .',\n",
       " 'he often said , “ we born divin fire us .',\n",
       " 'our effort give wing fire fill world glow goodness. ” final , dr. apj abdul kalam great scientist , leader , visionari dedic life servic nation .',\n",
       " 'he inspir million peopl idea humil , legaci continu inspir generat come .',\n",
       " 'as rememb today , let us reded valu stood – educ , innov , servic human .',\n",
       " 'let us work toward make india develop nation beacon hope progress world .',\n",
       " 'thank .']"
      ]
     },
     "execution_count": 40,
     "metadata": {},
     "output_type": "execute_result"
    }
   ],
   "source": [
    "sentences"
   ]
  },
  {
   "cell_type": "code",
   "execution_count": 41,
   "metadata": {},
   "outputs": [],
   "source": [
    "from nltk.stem import WordNetLemmatizer"
   ]
  },
  {
   "cell_type": "code",
   "execution_count": 43,
   "metadata": {},
   "outputs": [],
   "source": [
    "lemmatizer = WordNetLemmatizer()"
   ]
  },
  {
   "cell_type": "code",
   "execution_count": 56,
   "metadata": {},
   "outputs": [],
   "source": [
    "for i in range(len(sentences)):\n",
    "    sentences[i] = sentences[i].lower()\n",
    "    words = nltk.word_tokenize(sentences[i])\n",
    "    words = [lemmatizer.lemmatize(word, pos='v') for word in words if word not in set(stopwords.words('english'))]\n",
    "    sentences[i] = ' '.join(words)"
   ]
  },
  {
   "cell_type": "code",
   "execution_count": 57,
   "metadata": {},
   "outputs": [
    {
     "data": {
      "text/plain": [
       "['dr. kalam strong advocate education believe every child india right quality education .',\n",
       " 'great teacher mentor , always encourage young people pursue dream never give aspiration .',\n",
       " 'believe want build better india , must invest youth empower knowledge skill need succeed .',\n",
       " 'one dr. kalam ’ endure legacy role public figure leader .',\n",
       " 'serve 11th president india 2002 2007 widely respect humility , integrity , wisdom .',\n",
       " 'tenure president , travel extensively across country , meet people walk life inspire vision better india .',\n",
       " 'dr. kalam also great writer thinker .',\n",
       " 'author several book , include “ wing fire , ” autobiography chronicle journey small village highest office land .',\n",
       " 'also write numerous essay speech topic range science technology spirituality social issue .',\n",
       " 'one dr. kalam ’ famous speech address student iit delhi 2009 .',\n",
       " 'speech , outline vision india year 2020 , call “ vision 2020 . ” envision india develop nation self-reliant area , include agriculture , industry , defense .',\n",
       " 'believe india could achieve vision focus innovation , education , entrepreneurship .',\n",
       " 'dr. kalam man great faith spirituality .',\n",
       " 'believe science spirituality mutually exclusive complementary .',\n",
       " 'often speak need harmony science spirituality importance use technology betterment humanity .',\n",
       " 'dr. kalam true patriot love country people .',\n",
       " 'believe india potential become great nation duty every citizen work towards goal .',\n",
       " 'often say , “ bear divine fire u .',\n",
       " 'effort give wing fire fill world glow goodness . ” finally , dr. apj abdul kalam great scientist , leader , visionary dedicate life service nation .',\n",
       " 'inspire million people idea humility , legacy continue inspire generation come .',\n",
       " 'remember today , let u rededicate value stand – education , innovation , service humanity .',\n",
       " 'let u work towards make india develop nation beacon hope progress world .',\n",
       " 'thank .']"
      ]
     },
     "execution_count": 57,
     "metadata": {},
     "output_type": "execute_result"
    }
   ],
   "source": [
    "sentences"
   ]
  },
  {
   "cell_type": "code",
   "execution_count": null,
   "metadata": {},
   "outputs": [],
   "source": []
  }
 ],
 "metadata": {
  "kernelspec": {
   "display_name": "dl",
   "language": "python",
   "name": "python3"
  },
  "language_info": {
   "codemirror_mode": {
    "name": "ipython",
    "version": 3
   },
   "file_extension": ".py",
   "mimetype": "text/x-python",
   "name": "python",
   "nbconvert_exporter": "python",
   "pygments_lexer": "ipython3",
   "version": "3.10.0"
  }
 },
 "nbformat": 4,
 "nbformat_minor": 2
}
