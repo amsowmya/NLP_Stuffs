{
 "cells": [
  {
   "cell_type": "markdown",
   "metadata": {},
   "source": [
    "#### Part Of Speech Tags"
   ]
  },
  {
   "cell_type": "code",
   "execution_count": 1,
   "metadata": {},
   "outputs": [
    {
     "data": {
      "text/plain": [
       "'Taj Mahal is a beautiful Monument'"
      ]
     },
     "execution_count": 1,
     "metadata": {},
     "output_type": "execute_result"
    }
   ],
   "source": [
    "\"Taj Mahal is a beautiful Monument\""
   ]
  },
  {
   "cell_type": "code",
   "execution_count": 2,
   "metadata": {},
   "outputs": [],
   "source": [
    "paragraph = \"\"\"Dr. Kalam was a strong advocate for education and believed that every child in India had the right to quality education. He was a great teacher and mentor, and he always encouraged young people to pursue their dreams and never give up on their aspirations. He believed that if we want to build a better India, we must invest in our youth and empower them with the knowledge and skills they need to succeed.\n",
    "One of Dr. Kalam’s most enduring legacies is his role as a public figure and leader. He served as the 11th President of India from 2002 to 2007 and was widely respected for his humility, integrity, and wisdom. During his tenure as President, he traveled extensively across the country, meeting with people from all walks of life and inspiring them with his vision for a better India.\n",
    "Dr. Kalam was also a great writer and thinker. He authored several books, including “Wings of Fire,” an autobiography that chronicles his journey from a small village to the highest office in the land. He also wrote numerous essays and speeches on topics ranging from science and technology to spirituality and social issues.\n",
    "One of Dr. Kalam’s most famous speeches was his address to the students of IIT Delhi in 2009. In that speech, he outlined his vision for India in the year 2020, which he called “Vision 2020.” He envisioned India as a developed nation that was self-reliant in all areas, including agriculture, industry, and defense. He believed that India could achieve this vision if it focused on innovation, education, and entrepreneurship.\n",
    "Dr. Kalam was a man of great faith and spirituality. He believed that science and spirituality were not mutually exclusive but were complementary to each other. He often spoke about the need for harmony between science and spirituality and the importance of using technology for the betterment of humanity.\n",
    "Dr. Kalam was a true patriot who loved his country and its people. He believed that India had the potential to become a great nation and that it was the duty of every citizen to work towards that goal. He often said, “We are all born with a divine fire in us. Our efforts should be to give wings to this fire and fill the world with the glow of its goodness.”\n",
    "Finally, Dr. APJ Abdul Kalam was a great scientist, leader, and visionary who dedicated his life to the service of our nation. He inspired millions of people with his ideas and his humility, and his legacy will continue to inspire generations to come. As we remember him today, let us rededicate ourselves to the values that he stood for – education, innovation, and service to humanity. Let us work towards making India a developed nation that is a beacon of hope and progress for the world. Thank you.\n",
    "\"\"\""
   ]
  },
  {
   "cell_type": "code",
   "execution_count": 7,
   "metadata": {},
   "outputs": [
    {
     "name": "stderr",
     "output_type": "stream",
     "text": [
      "[nltk_data] Downloading package punkt_tab to\n",
      "[nltk_data]     C:\\Users\\sowmy\\AppData\\Roaming\\nltk_data...\n",
      "[nltk_data]   Package punkt_tab is already up-to-date!\n"
     ]
    },
    {
     "data": {
      "text/plain": [
       "True"
      ]
     },
     "execution_count": 7,
     "metadata": {},
     "output_type": "execute_result"
    }
   ],
   "source": [
    "import nltk\n",
    "nltk.download('punkt_tab')"
   ]
  },
  {
   "cell_type": "code",
   "execution_count": 8,
   "metadata": {},
   "outputs": [
    {
     "data": {
      "text/plain": [
       "['Dr. Kalam was a strong advocate for education and believed that every child in India had the right to quality education.',\n",
       " 'He was a great teacher and mentor, and he always encouraged young people to pursue their dreams and never give up on their aspirations.',\n",
       " 'He believed that if we want to build a better India, we must invest in our youth and empower them with the knowledge and skills they need to succeed.',\n",
       " 'One of Dr. Kalam’s most enduring legacies is his role as a public figure and leader.',\n",
       " 'He served as the 11th President of India from 2002 to 2007 and was widely respected for his humility, integrity, and wisdom.',\n",
       " 'During his tenure as President, he traveled extensively across the country, meeting with people from all walks of life and inspiring them with his vision for a better India.',\n",
       " 'Dr. Kalam was also a great writer and thinker.',\n",
       " 'He authored several books, including “Wings of Fire,” an autobiography that chronicles his journey from a small village to the highest office in the land.',\n",
       " 'He also wrote numerous essays and speeches on topics ranging from science and technology to spirituality and social issues.',\n",
       " 'One of Dr. Kalam’s most famous speeches was his address to the students of IIT Delhi in 2009.',\n",
       " 'In that speech, he outlined his vision for India in the year 2020, which he called “Vision 2020.” He envisioned India as a developed nation that was self-reliant in all areas, including agriculture, industry, and defense.',\n",
       " 'He believed that India could achieve this vision if it focused on innovation, education, and entrepreneurship.',\n",
       " 'Dr. Kalam was a man of great faith and spirituality.',\n",
       " 'He believed that science and spirituality were not mutually exclusive but were complementary to each other.',\n",
       " 'He often spoke about the need for harmony between science and spirituality and the importance of using technology for the betterment of humanity.',\n",
       " 'Dr. Kalam was a true patriot who loved his country and its people.',\n",
       " 'He believed that India had the potential to become a great nation and that it was the duty of every citizen to work towards that goal.',\n",
       " 'He often said, “We are all born with a divine fire in us.',\n",
       " 'Our efforts should be to give wings to this fire and fill the world with the glow of its goodness.”\\nFinally, Dr. APJ Abdul Kalam was a great scientist, leader, and visionary who dedicated his life to the service of our nation.',\n",
       " 'He inspired millions of people with his ideas and his humility, and his legacy will continue to inspire generations to come.',\n",
       " 'As we remember him today, let us rededicate ourselves to the values that he stood for – education, innovation, and service to humanity.',\n",
       " 'Let us work towards making India a developed nation that is a beacon of hope and progress for the world.',\n",
       " 'Thank you.']"
      ]
     },
     "execution_count": 8,
     "metadata": {},
     "output_type": "execute_result"
    }
   ],
   "source": [
    "sentences = nltk.sent_tokenize(paragraph)\n",
    "sentences"
   ]
  },
  {
   "cell_type": "code",
   "execution_count": 11,
   "metadata": {},
   "outputs": [
    {
     "name": "stderr",
     "output_type": "stream",
     "text": [
      "[nltk_data] Downloading package averaged_perceptron_tagger_eng to\n",
      "[nltk_data]     C:\\Users\\sowmy\\AppData\\Roaming\\nltk_data...\n",
      "[nltk_data]   Unzipping taggers\\averaged_perceptron_tagger_eng.zip.\n"
     ]
    },
    {
     "data": {
      "text/plain": [
       "True"
      ]
     },
     "execution_count": 11,
     "metadata": {},
     "output_type": "execute_result"
    }
   ],
   "source": [
    "# We will findout the pos tag\n",
    "\n",
    "from nltk.corpus import stopwords\n",
    "import nltk\n",
    "nltk.download('averaged_perceptron_tagger_eng')"
   ]
  },
  {
   "cell_type": "code",
   "execution_count": 12,
   "metadata": {},
   "outputs": [
    {
     "name": "stdout",
     "output_type": "stream",
     "text": [
      "[('Dr.', 'NNP'), ('Kalam', 'NNP'), ('strong', 'JJ'), ('advocate', 'NN'), ('education', 'NN'), ('believed', 'VBN'), ('every', 'DT'), ('child', 'NN'), ('India', 'NNP'), ('right', 'JJ'), ('quality', 'NN'), ('education', 'NN'), ('.', '.')]\n",
      "[('He', 'PRP'), ('great', 'JJ'), ('teacher', 'JJ'), ('mentor', 'NN'), (',', ','), ('always', 'RB'), ('encouraged', 'VBN'), ('young', 'JJ'), ('people', 'NNS'), ('pursue', 'VBP'), ('dreams', 'NNS'), ('never', 'RB'), ('give', 'VBP'), ('aspirations', 'NNS'), ('.', '.')]\n",
      "[('He', 'PRP'), ('believed', 'VBD'), ('want', 'VBP'), ('build', 'JJ'), ('better', 'RBR'), ('India', 'NNP'), (',', ','), ('must', 'MD'), ('invest', 'VB'), ('youth', 'NN'), ('empower', 'JJR'), ('knowledge', 'NN'), ('skills', 'NNS'), ('need', 'VBP'), ('succeed', 'VB'), ('.', '.')]\n",
      "[('One', 'CD'), ('Dr.', 'NNP'), ('Kalam', 'NNP'), ('’', 'NNP'), ('enduring', 'VBG'), ('legacies', 'NNS'), ('role', 'NN'), ('public', 'JJ'), ('figure', 'NN'), ('leader', 'NN'), ('.', '.')]\n",
      "[('He', 'PRP'), ('served', 'VBD'), ('11th', 'CD'), ('President', 'NNP'), ('India', 'NNP'), ('2002', 'CD'), ('2007', 'CD'), ('widely', 'RB'), ('respected', 'VBN'), ('humility', 'NN'), (',', ','), ('integrity', 'NN'), (',', ','), ('wisdom', 'NN'), ('.', '.')]\n",
      "[('During', 'IN'), ('tenure', 'NN'), ('President', 'NNP'), (',', ','), ('traveled', 'VBD'), ('extensively', 'RB'), ('across', 'IN'), ('country', 'NN'), (',', ','), ('meeting', 'VBG'), ('people', 'NNS'), ('walks', 'VBP'), ('life', 'NN'), ('inspiring', 'VBG'), ('vision', 'NN'), ('better', 'RBR'), ('India', 'NNP'), ('.', '.')]\n",
      "[('Dr.', 'NNP'), ('Kalam', 'NNP'), ('also', 'RB'), ('great', 'JJ'), ('writer', 'NN'), ('thinker', 'NN'), ('.', '.')]\n",
      "[('He', 'PRP'), ('authored', 'VBD'), ('several', 'JJ'), ('books', 'NNS'), (',', ','), ('including', 'VBG'), ('“', 'JJ'), ('Wings', 'NNP'), ('Fire', 'NNP'), (',', ','), ('”', 'NNP'), ('autobiography', 'NN'), ('chronicles', 'NNS'), ('journey', 'VBP'), ('small', 'JJ'), ('village', 'NN'), ('highest', 'JJS'), ('office', 'NN'), ('land', 'NN'), ('.', '.')]\n",
      "[('He', 'PRP'), ('also', 'RB'), ('wrote', 'VBD'), ('numerous', 'JJ'), ('essays', 'NNS'), ('speeches', 'NNS'), ('topics', 'NNS'), ('ranging', 'VBG'), ('science', 'NN'), ('technology', 'NN'), ('spirituality', 'NN'), ('social', 'JJ'), ('issues', 'NNS'), ('.', '.')]\n",
      "[('One', 'CD'), ('Dr.', 'NNP'), ('Kalam', 'NNP'), ('’', 'NNP'), ('famous', 'JJ'), ('speeches', 'NNS'), ('address', 'JJ'), ('students', 'NNS'), ('IIT', 'NNP'), ('Delhi', 'NNP'), ('2009', 'CD'), ('.', '.')]\n",
      "[('In', 'IN'), ('speech', 'NN'), (',', ','), ('outlined', 'VBN'), ('vision', 'NN'), ('India', 'NNP'), ('year', 'NN'), ('2020', 'CD'), (',', ','), ('called', 'VBN'), ('“', 'NN'), ('Vision', 'NNP'), ('2020.', 'CD'), ('”', 'NN'), ('He', 'PRP'), ('envisioned', 'VBD'), ('India', 'NNP'), ('developed', 'VBD'), ('nation', 'NN'), ('self-reliant', 'JJ'), ('areas', 'NNS'), (',', ','), ('including', 'VBG'), ('agriculture', 'NN'), (',', ','), ('industry', 'NN'), (',', ','), ('defense', 'NN'), ('.', '.')]\n",
      "[('He', 'PRP'), ('believed', 'VBD'), ('India', 'NNP'), ('could', 'MD'), ('achieve', 'VB'), ('vision', 'NN'), ('focused', 'JJ'), ('innovation', 'NN'), (',', ','), ('education', 'NN'), (',', ','), ('entrepreneurship', 'NN'), ('.', '.')]\n",
      "[('Dr.', 'NNP'), ('Kalam', 'NNP'), ('man', 'NN'), ('great', 'JJ'), ('faith', 'JJ'), ('spirituality', 'NN'), ('.', '.')]\n",
      "[('He', 'PRP'), ('believed', 'VBD'), ('science', 'NN'), ('spirituality', 'NN'), ('mutually', 'RB'), ('exclusive', 'JJ'), ('complementary', 'NN'), ('.', '.')]\n",
      "[('He', 'PRP'), ('often', 'RB'), ('spoke', 'VBD'), ('need', 'JJ'), ('harmony', 'NN'), ('science', 'NN'), ('spirituality', 'NN'), ('importance', 'NN'), ('using', 'VBG'), ('technology', 'NN'), ('betterment', 'NN'), ('humanity', 'NN'), ('.', '.')]\n",
      "[('Dr.', 'NNP'), ('Kalam', 'NNP'), ('true', 'JJ'), ('patriot', 'NN'), ('loved', 'VBD'), ('country', 'NN'), ('people', 'NNS'), ('.', '.')]\n",
      "[('He', 'PRP'), ('believed', 'VBD'), ('India', 'NNP'), ('potential', 'JJ'), ('become', 'NN'), ('great', 'JJ'), ('nation', 'NN'), ('duty', 'NN'), ('every', 'DT'), ('citizen', 'NN'), ('work', 'NN'), ('towards', 'NNS'), ('goal', 'NN'), ('.', '.')]\n",
      "[('He', 'PRP'), ('often', 'RB'), ('said', 'VBD'), (',', ','), ('“', 'NNP'), ('We', 'PRP'), ('born', 'VBP'), ('divine', 'JJ'), ('fire', 'NN'), ('us', 'PRP'), ('.', '.')]\n",
      "[('Our', 'PRP$'), ('efforts', 'NNS'), ('give', 'VBP'), ('wings', 'NNS'), ('fire', 'NN'), ('fill', 'NN'), ('world', 'NN'), ('glow', 'NN'), ('goodness.', 'NN'), ('”', 'NNP'), ('Finally', 'NNP'), (',', ','), ('Dr.', 'NNP'), ('APJ', 'NNP'), ('Abdul', 'NNP'), ('Kalam', 'NNP'), ('great', 'JJ'), ('scientist', 'NN'), (',', ','), ('leader', 'NN'), (',', ','), ('visionary', 'JJ'), ('dedicated', 'VBD'), ('life', 'NN'), ('service', 'NN'), ('nation', 'NN'), ('.', '.')]\n",
      "[('He', 'PRP'), ('inspired', 'VBD'), ('millions', 'NNS'), ('people', 'NNS'), ('ideas', 'VBP'), ('humility', 'NN'), (',', ','), ('legacy', 'NN'), ('continue', 'VBP'), ('inspire', 'NN'), ('generations', 'NNS'), ('come', 'VBP'), ('.', '.')]\n",
      "[('As', 'IN'), ('remember', 'NN'), ('today', 'NN'), (',', ','), ('let', 'VB'), ('us', 'PRP'), ('rededicate', 'VB'), ('values', 'NNS'), ('stood', 'VBD'), ('–', 'JJ'), ('education', 'NN'), (',', ','), ('innovation', 'NN'), (',', ','), ('service', 'NN'), ('humanity', 'NN'), ('.', '.')]\n",
      "[('Let', 'VB'), ('us', 'PRP'), ('work', 'VB'), ('towards', 'NNS'), ('making', 'VBG'), ('India', 'NNP'), ('developed', 'VBD'), ('nation', 'NN'), ('beacon', 'NN'), ('hope', 'NN'), ('progress', 'NN'), ('world', 'NN'), ('.', '.')]\n",
      "[('Thank', 'NNP'), ('.', '.')]\n"
     ]
    }
   ],
   "source": [
    "for i in range(len(sentences)):\n",
    "    words = nltk.word_tokenize(sentences[i])\n",
    "    words = [word for word in words if word not in set(stopwords.words('english'))]\n",
    "    pos_tag = nltk.pos_tag(words)\n",
    "    print(pos_tag)"
   ]
  },
  {
   "cell_type": "code",
   "execution_count": 21,
   "metadata": {},
   "outputs": [
    {
     "data": {
      "text/plain": [
       "[[('Taj', 'NNP'),\n",
       "  ('Mahan', 'NNP'),\n",
       "  ('is', 'VBZ'),\n",
       "  ('a', 'DT'),\n",
       "  ('beautiful', 'JJ'),\n",
       "  ('Monument', 'NN')]]"
      ]
     },
     "execution_count": 21,
     "metadata": {},
     "output_type": "execute_result"
    }
   ],
   "source": [
    "nltk.pos_tag_sents([\"Taj Mahan is a beautiful Monument\".split()])"
   ]
  },
  {
   "cell_type": "code",
   "execution_count": 26,
   "metadata": {},
   "outputs": [
    {
     "data": {
      "text/plain": [
       "[('Taj Mahan is a beautiful Monument', 'NN')]"
      ]
     },
     "execution_count": 26,
     "metadata": {},
     "output_type": "execute_result"
    }
   ],
   "source": [
    "nltk.pos_tag([\"Taj Mahan is a beautiful Monument\"])"
   ]
  },
  {
   "cell_type": "code",
   "execution_count": 33,
   "metadata": {},
   "outputs": [
    {
     "name": "stdout",
     "output_type": "stream",
     "text": [
      "[('Dr.', 'NNP'), ('Kalam', 'NNP'), ('was', 'VBD'), ('a', 'DT'), ('strong', 'JJ'), ('advocate', 'NN'), ('for', 'IN'), ('education', 'NN'), ('and', 'CC'), ('believed', 'VBD'), ('that', 'IN'), ('every', 'DT'), ('child', 'NN'), ('in', 'IN'), ('India', 'NNP'), ('had', 'VBD'), ('the', 'DT'), ('right', 'NN'), ('to', 'TO'), ('quality', 'VB'), ('education', 'NN'), ('.', '.')]\n",
      "[('He', 'PRP'), ('was', 'VBD'), ('a', 'DT'), ('great', 'JJ'), ('teacher', 'NN'), ('and', 'CC'), ('mentor', 'NN'), (',', ','), ('and', 'CC'), ('he', 'PRP'), ('always', 'RB'), ('encouraged', 'VBD'), ('young', 'JJ'), ('people', 'NNS'), ('to', 'TO'), ('pursue', 'VB'), ('their', 'PRP$'), ('dreams', 'NNS'), ('and', 'CC'), ('never', 'RB'), ('give', 'VB'), ('up', 'RP'), ('on', 'IN'), ('their', 'PRP$'), ('aspirations', 'NNS'), ('.', '.')]\n",
      "[('He', 'PRP'), ('believed', 'VBD'), ('that', 'IN'), ('if', 'IN'), ('we', 'PRP'), ('want', 'VBP'), ('to', 'TO'), ('build', 'VB'), ('a', 'DT'), ('better', 'JJR'), ('India', 'NNP'), (',', ','), ('we', 'PRP'), ('must', 'MD'), ('invest', 'VB'), ('in', 'IN'), ('our', 'PRP$'), ('youth', 'NN'), ('and', 'CC'), ('empower', 'VB'), ('them', 'PRP'), ('with', 'IN'), ('the', 'DT'), ('knowledge', 'NN'), ('and', 'CC'), ('skills', 'NNS'), ('they', 'PRP'), ('need', 'VBP'), ('to', 'TO'), ('succeed', 'VB'), ('.', '.')]\n",
      "[('One', 'CD'), ('of', 'IN'), ('Dr.', 'NNP'), ('Kalam', 'NNP'), ('’', 'NNP'), ('s', 'VBZ'), ('most', 'JJS'), ('enduring', 'JJ'), ('legacies', 'NNS'), ('is', 'VBZ'), ('his', 'PRP$'), ('role', 'NN'), ('as', 'IN'), ('a', 'DT'), ('public', 'JJ'), ('figure', 'NN'), ('and', 'CC'), ('leader', 'NN'), ('.', '.')]\n",
      "[('He', 'PRP'), ('served', 'VBD'), ('as', 'IN'), ('the', 'DT'), ('11th', 'CD'), ('President', 'NNP'), ('of', 'IN'), ('India', 'NNP'), ('from', 'IN'), ('2002', 'CD'), ('to', 'TO'), ('2007', 'CD'), ('and', 'CC'), ('was', 'VBD'), ('widely', 'RB'), ('respected', 'VBN'), ('for', 'IN'), ('his', 'PRP$'), ('humility', 'NN'), (',', ','), ('integrity', 'NN'), (',', ','), ('and', 'CC'), ('wisdom', 'NN'), ('.', '.')]\n",
      "[('During', 'IN'), ('his', 'PRP$'), ('tenure', 'NN'), ('as', 'IN'), ('President', 'NNP'), (',', ','), ('he', 'PRP'), ('traveled', 'VBD'), ('extensively', 'RB'), ('across', 'IN'), ('the', 'DT'), ('country', 'NN'), (',', ','), ('meeting', 'VBG'), ('with', 'IN'), ('people', 'NNS'), ('from', 'IN'), ('all', 'DT'), ('walks', 'NNS'), ('of', 'IN'), ('life', 'NN'), ('and', 'CC'), ('inspiring', 'VBG'), ('them', 'PRP'), ('with', 'IN'), ('his', 'PRP$'), ('vision', 'NN'), ('for', 'IN'), ('a', 'DT'), ('better', 'JJR'), ('India', 'NNP'), ('.', '.')]\n",
      "[('Dr.', 'NNP'), ('Kalam', 'NNP'), ('was', 'VBD'), ('also', 'RB'), ('a', 'DT'), ('great', 'JJ'), ('writer', 'NN'), ('and', 'CC'), ('thinker', 'NN'), ('.', '.')]\n",
      "[('He', 'PRP'), ('authored', 'VBD'), ('several', 'JJ'), ('books', 'NNS'), (',', ','), ('including', 'VBG'), ('“', 'JJ'), ('Wings', 'NNS'), ('of', 'IN'), ('Fire', 'NNP'), (',', ','), ('”', 'NNP'), ('an', 'DT'), ('autobiography', 'NN'), ('that', 'WDT'), ('chronicles', 'VBZ'), ('his', 'PRP$'), ('journey', 'NN'), ('from', 'IN'), ('a', 'DT'), ('small', 'JJ'), ('village', 'NN'), ('to', 'TO'), ('the', 'DT'), ('highest', 'JJS'), ('office', 'NN'), ('in', 'IN'), ('the', 'DT'), ('land', 'NN'), ('.', '.')]\n",
      "[('He', 'PRP'), ('also', 'RB'), ('wrote', 'VBD'), ('numerous', 'JJ'), ('essays', 'NNS'), ('and', 'CC'), ('speeches', 'NNS'), ('on', 'IN'), ('topics', 'NNS'), ('ranging', 'VBG'), ('from', 'IN'), ('science', 'NN'), ('and', 'CC'), ('technology', 'NN'), ('to', 'TO'), ('spirituality', 'NN'), ('and', 'CC'), ('social', 'JJ'), ('issues', 'NNS'), ('.', '.')]\n",
      "[('One', 'CD'), ('of', 'IN'), ('Dr.', 'NNP'), ('Kalam', 'NNP'), ('’', 'NNP'), ('s', 'VBD'), ('most', 'JJS'), ('famous', 'JJ'), ('speeches', 'NNS'), ('was', 'VBD'), ('his', 'PRP$'), ('address', 'NN'), ('to', 'TO'), ('the', 'DT'), ('students', 'NNS'), ('of', 'IN'), ('IIT', 'NNP'), ('Delhi', 'NNP'), ('in', 'IN'), ('2009', 'CD'), ('.', '.')]\n",
      "[('In', 'IN'), ('that', 'DT'), ('speech', 'NN'), (',', ','), ('he', 'PRP'), ('outlined', 'VBD'), ('his', 'PRP$'), ('vision', 'NN'), ('for', 'IN'), ('India', 'NNP'), ('in', 'IN'), ('the', 'DT'), ('year', 'NN'), ('2020', 'CD'), (',', ','), ('which', 'WDT'), ('he', 'PRP'), ('called', 'VBD'), ('“', 'NNP'), ('Vision', 'NNP'), ('2020.', 'CD'), ('”', 'NN'), ('He', 'PRP'), ('envisioned', 'VBD'), ('India', 'NNP'), ('as', 'IN'), ('a', 'DT'), ('developed', 'JJ'), ('nation', 'NN'), ('that', 'WDT'), ('was', 'VBD'), ('self-reliant', 'JJ'), ('in', 'IN'), ('all', 'DT'), ('areas', 'NNS'), (',', ','), ('including', 'VBG'), ('agriculture', 'NN'), (',', ','), ('industry', 'NN'), (',', ','), ('and', 'CC'), ('defense', 'NN'), ('.', '.')]\n",
      "[('He', 'PRP'), ('believed', 'VBD'), ('that', 'IN'), ('India', 'NNP'), ('could', 'MD'), ('achieve', 'VB'), ('this', 'DT'), ('vision', 'NN'), ('if', 'IN'), ('it', 'PRP'), ('focused', 'VBD'), ('on', 'IN'), ('innovation', 'NN'), (',', ','), ('education', 'NN'), (',', ','), ('and', 'CC'), ('entrepreneurship', 'NN'), ('.', '.')]\n",
      "[('Dr.', 'NNP'), ('Kalam', 'NNP'), ('was', 'VBD'), ('a', 'DT'), ('man', 'NN'), ('of', 'IN'), ('great', 'JJ'), ('faith', 'NN'), ('and', 'CC'), ('spirituality', 'NN'), ('.', '.')]\n",
      "[('He', 'PRP'), ('believed', 'VBD'), ('that', 'IN'), ('science', 'NN'), ('and', 'CC'), ('spirituality', 'NN'), ('were', 'VBD'), ('not', 'RB'), ('mutually', 'RB'), ('exclusive', 'JJ'), ('but', 'CC'), ('were', 'VBD'), ('complementary', 'JJ'), ('to', 'TO'), ('each', 'DT'), ('other', 'JJ'), ('.', '.')]\n",
      "[('He', 'PRP'), ('often', 'RB'), ('spoke', 'VBD'), ('about', 'IN'), ('the', 'DT'), ('need', 'NN'), ('for', 'IN'), ('harmony', 'NN'), ('between', 'IN'), ('science', 'NN'), ('and', 'CC'), ('spirituality', 'NN'), ('and', 'CC'), ('the', 'DT'), ('importance', 'NN'), ('of', 'IN'), ('using', 'VBG'), ('technology', 'NN'), ('for', 'IN'), ('the', 'DT'), ('betterment', 'NN'), ('of', 'IN'), ('humanity', 'NN'), ('.', '.')]\n",
      "[('Dr.', 'NNP'), ('Kalam', 'NNP'), ('was', 'VBD'), ('a', 'DT'), ('true', 'JJ'), ('patriot', 'NN'), ('who', 'WP'), ('loved', 'VBD'), ('his', 'PRP$'), ('country', 'NN'), ('and', 'CC'), ('its', 'PRP$'), ('people', 'NNS'), ('.', '.')]\n",
      "[('He', 'PRP'), ('believed', 'VBD'), ('that', 'IN'), ('India', 'NNP'), ('had', 'VBD'), ('the', 'DT'), ('potential', 'JJ'), ('to', 'TO'), ('become', 'VB'), ('a', 'DT'), ('great', 'JJ'), ('nation', 'NN'), ('and', 'CC'), ('that', 'IN'), ('it', 'PRP'), ('was', 'VBD'), ('the', 'DT'), ('duty', 'NN'), ('of', 'IN'), ('every', 'DT'), ('citizen', 'NN'), ('to', 'TO'), ('work', 'VB'), ('towards', 'NNS'), ('that', 'DT'), ('goal', 'NN'), ('.', '.')]\n",
      "[('He', 'PRP'), ('often', 'RB'), ('said', 'VBD'), (',', ','), ('“', 'IN'), ('We', 'PRP'), ('are', 'VBP'), ('all', 'DT'), ('born', 'VBN'), ('with', 'IN'), ('a', 'DT'), ('divine', 'NN'), ('fire', 'NN'), ('in', 'IN'), ('us', 'PRP'), ('.', '.')]\n",
      "[('Our', 'PRP$'), ('efforts', 'NNS'), ('should', 'MD'), ('be', 'VB'), ('to', 'TO'), ('give', 'VB'), ('wings', 'NNS'), ('to', 'TO'), ('this', 'DT'), ('fire', 'NN'), ('and', 'CC'), ('fill', 'VB'), ('the', 'DT'), ('world', 'NN'), ('with', 'IN'), ('the', 'DT'), ('glow', 'NN'), ('of', 'IN'), ('its', 'PRP$'), ('goodness.', 'NN'), ('”', 'NNP'), ('Finally', 'NNP'), (',', ','), ('Dr.', 'NNP'), ('APJ', 'NNP'), ('Abdul', 'NNP'), ('Kalam', 'NNP'), ('was', 'VBD'), ('a', 'DT'), ('great', 'JJ'), ('scientist', 'NN'), (',', ','), ('leader', 'NN'), (',', ','), ('and', 'CC'), ('visionary', 'NN'), ('who', 'WP'), ('dedicated', 'VBD'), ('his', 'PRP$'), ('life', 'NN'), ('to', 'TO'), ('the', 'DT'), ('service', 'NN'), ('of', 'IN'), ('our', 'PRP$'), ('nation', 'NN'), ('.', '.')]\n",
      "[('He', 'PRP'), ('inspired', 'VBD'), ('millions', 'NNS'), ('of', 'IN'), ('people', 'NNS'), ('with', 'IN'), ('his', 'PRP$'), ('ideas', 'NNS'), ('and', 'CC'), ('his', 'PRP$'), ('humility', 'NN'), (',', ','), ('and', 'CC'), ('his', 'PRP$'), ('legacy', 'NN'), ('will', 'MD'), ('continue', 'VB'), ('to', 'TO'), ('inspire', 'VB'), ('generations', 'NNS'), ('to', 'TO'), ('come', 'VB'), ('.', '.')]\n",
      "[('As', 'IN'), ('we', 'PRP'), ('remember', 'VBP'), ('him', 'PRP'), ('today', 'NN'), (',', ','), ('let', 'VB'), ('us', 'PRP'), ('rededicate', 'VB'), ('ourselves', 'NNS'), ('to', 'TO'), ('the', 'DT'), ('values', 'NNS'), ('that', 'IN'), ('he', 'PRP'), ('stood', 'VBD'), ('for', 'IN'), ('–', 'JJ'), ('education', 'NN'), (',', ','), ('innovation', 'NN'), (',', ','), ('and', 'CC'), ('service', 'NN'), ('to', 'TO'), ('humanity', 'NN'), ('.', '.')]\n",
      "[('Let', 'VB'), ('us', 'PRP'), ('work', 'VB'), ('towards', 'NNS'), ('making', 'VBG'), ('India', 'NNP'), ('a', 'DT'), ('developed', 'JJ'), ('nation', 'NN'), ('that', 'WDT'), ('is', 'VBZ'), ('a', 'DT'), ('beacon', 'NN'), ('of', 'IN'), ('hope', 'NN'), ('and', 'CC'), ('progress', 'NN'), ('for', 'IN'), ('the', 'DT'), ('world', 'NN'), ('.', '.')]\n",
      "[('Thank', 'NNP'), ('you', 'PRP'), ('.', '.')]\n"
     ]
    }
   ],
   "source": [
    "for i in range(len(sentences)):\n",
    "    words = nltk.word_tokenize(sentences[i])\n",
    "    pos = nltk.pos_tag(words)\n",
    "    print(pos)"
   ]
  },
  {
   "cell_type": "code",
   "execution_count": null,
   "metadata": {},
   "outputs": [],
   "source": []
  }
 ],
 "metadata": {
  "kernelspec": {
   "display_name": "dl",
   "language": "python",
   "name": "python3"
  },
  "language_info": {
   "codemirror_mode": {
    "name": "ipython",
    "version": 3
   },
   "file_extension": ".py",
   "mimetype": "text/x-python",
   "name": "python",
   "nbconvert_exporter": "python",
   "pygments_lexer": "ipython3",
   "version": "3.10.0"
  }
 },
 "nbformat": 4,
 "nbformat_minor": 2
}
